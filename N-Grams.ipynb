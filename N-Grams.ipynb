{
  "cells": [
    {
      "cell_type": "markdown",
      "metadata": {
        "id": "bwNY7mdTr8n7"
      },
      "source": [
        "**N-Grams Implemenation(Bigrams)**"
      ]
    },
    {
      "cell_type": "code",
      "execution_count": null,
      "metadata": {
        "colab": {
          "base_uri": "https://localhost:8080/"
        },
        "id": "BavtvibwsDGs",
        "outputId": "26c46bb4-6d7c-48af-db93-4f4d7694f6d6"
      },
      "outputs": [
        {
          "name": "stderr",
          "output_type": "stream",
          "text": [
            "[nltk_data] Downloading package brown to /root/nltk_data...\n",
            "[nltk_data]   Package brown is already up-to-date!\n"
          ]
        },
        {
          "name": "stdout",
          "output_type": "stream",
          "text": [
            "Tokens : ['the', 'fulton', 'county', 'grand', 'jury', 'said', 'friday', 'an', 'investigation', 'of'] \n",
            " Vocabulary: ['rounding', 'modes', 'forbears', \"mulligan's\", 'islanders', \"jess's\", 'spirito', 'drawled', 'substantial', 'depressingly']\n"
          ]
        }
      ],
      "source": [
        "import nltk\n",
        "from nltk.corpus import brown\n",
        "nltk.download('brown')\n",
        "corpus=brown.words()\n",
        "token=[token.lower() for token in corpus]\n",
        "vocab=set(token)\n",
        "print(\"Tokens :\",token[:10],\"\\n\",\"Vocabulary:\",list(vocab)[:10])"
      ]
    },
    {
      "cell_type": "code",
      "execution_count": null,
      "metadata": {
        "colab": {
          "base_uri": "https://localhost:8080/"
        },
        "id": "nDT-7jS_t7kq",
        "outputId": "659a352c-8774-45ff-c046-ce37c7b3525a"
      },
      "outputs": [
        {
          "name": "stdout",
          "output_type": "stream",
          "text": [
            "Example, count for bigram('the','king') is :  51\n"
          ]
        }
      ],
      "source": [
        "bigramcount={}\n",
        "trigramcount={}\n",
        "for i in range(len(token)-2):\n",
        "  bigram=(token[i],token[i+1])\n",
        "  trigram=(token[i],token[i+1],token[i+2])\n",
        "\n",
        "  if bigram in bigramcount.keys():\n",
        "    bigramcount[bigram]+=1\n",
        "  else:\n",
        "    bigramcount[bigram]=1\n",
        "\n",
        "  if trigram in bigramcount.keys():\n",
        "    trigramcount[trigram]+=1\n",
        "  else:\n",
        "    trigramcount[trigram]=1\n",
        "\n",
        "\n",
        "print(\"Example, count for bigram('the','king') is : \",str(bigramcount[('the','king')]))"
      ]
    },
    {
      "cell_type": "code",
      "execution_count": null,
      "metadata": {
        "id": "ibP1TPOHyx48"
      },
      "outputs": [],
      "source": [
        "def suggestNextWord(ip_,bigramcount,trigramcount,vocab):\n",
        "  doc=word_tokenize(ip_.lower())\n",
        "  bigm=doc[-2:]\n",
        "  vocabprob={}\n",
        "  for voc in vocab:\n",
        "    bigramco=(bigm[0],bigm[1])\n",
        "    trigramco=(bigm[0],bigm[1],voc)\n",
        "    bigmco=bigramcount.get(bigramco,0)\n",
        "    trigmco=trigramcount.get(trigramco,0)\n",
        "\n",
        "    prob=trigmco/bigmco\n",
        "    vocabprob[voc]=prob\n",
        "\n",
        "    topsuggestion=sorted(vocabprob.items(),key=lambda x:x[1],reverse=True)[:3]\n",
        "  return topsuggestion"
      ]
    },
    {
      "cell_type": "code",
      "execution_count": null,
      "metadata": {
        "colab": {
          "background_save": true,
          "base_uri": "https://localhost:8080/"
        },
        "id": "cum3x-T91f7x",
        "outputId": "e8095e6a-6fc4-4839-9683-c3a10d1f9424"
      },
      "outputs": [
        {
          "data": {
            "text/plain": [
              "[(\"''\", 0.0196078431372549),\n",
              " ('have', 0.0196078431372549),\n",
              " ('personally', 0.0196078431372549)]"
            ]
          },
          "execution_count": 77,
          "metadata": {},
          "output_type": "execute_result"
        }
      ],
      "source": [
        "suggestNextWord('I am the King of',bigramcount,trigramcount,vocab)"
      ]
    }
  ],
  "metadata": {
    "colab": {
      "provenance": []
    },
    "kernelspec": {
      "display_name": "Python 3",
      "name": "python3"
    },
    "language_info": {
      "name": "python"
    }
  },
  "nbformat": 4,
  "nbformat_minor": 0
}